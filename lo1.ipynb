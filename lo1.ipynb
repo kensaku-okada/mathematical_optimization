{
 "cells": [
  {
   "cell_type": "markdown",
   "metadata": {},
   "source": [
    "新しい数理最適化 p8"
   ]
  },
  {
   "cell_type": "code",
   "execution_count": 8,
   "metadata": {},
   "outputs": [
    {
     "name": "stdout",
     "output_type": "stream",
     "text": [
      "Gurobi Optimizer version 9.0.1 build v9.0.1rc0 (mac64)\n",
      "Optimize a model with 2 rows, 3 columns and 6 nonzeros\n",
      "Model fingerprint: 0x842cbb21\n",
      "Coefficient statistics:\n",
      "  Matrix range     [1e+00, 2e+00]\n",
      "  Objective range  [2e+01, 3e+01]\n",
      "  Bounds range     [3e+01, 3e+01]\n",
      "  RHS range        [6e+01, 6e+01]\n",
      "Presolve time: 0.00s\n",
      "Presolved: 2 rows, 3 columns, 6 nonzeros\n",
      "\n",
      "Iteration    Objective       Primal Inf.    Dual Inf.      Time\n",
      "       0    3.3000000e+31   3.000000e+30   3.300000e+01      0s\n",
      "       3    1.2300000e+03   0.000000e+00   0.000000e+00      0s\n",
      "\n",
      "Solved in 3 iterations and 0.01 seconds\n",
      "Optimal objective  1.230000000e+03\n",
      "--------------------\n",
      "Opt. Value= 1230.0\n",
      "v.VarName= x1, v.X= 10.0\n",
      "v.VarName= x2, v.X= 10.0\n",
      "v.VarName= x3, v.X= 30.0\n"
     ]
    }
   ],
   "source": [
    "from gurobipy import *\n",
    "\n",
    "model = Model(\"lo1\")\n",
    "x1 = model.addVar(vtype=\"C\", name=\"x1\")\n",
    "x2 = model.addVar(vtype=\"C\", name=\"x2\")\n",
    "x3 = model.addVar(vtype=\"C\", ub=30, name=\"x3\")\n",
    "\n",
    "model.update()\n",
    "\n",
    "model.addConstr(2 * x1 + x2 + x3 <= 60)\n",
    "model.addConstr(x1 + 2 * x2 + x3 <= 60)\n",
    "model.setObjective(15 * x1 + 18 * x2 + 30 * x3, GRB.MAXIMIZE)\n",
    "\n",
    "model.optimize()\n",
    "print(\"--------------------\")\n",
    "print(f\"Opt. Value= {model.ObjVal}\")\n",
    "    \n",
    "for v in model.getVars():\n",
    "    print(f\"v.VarName= {v.VarName}, v.X= {v.X}\")\n",
    "      \n",
    "      \n",
    "      "
   ]
  },
  {
   "cell_type": "code",
   "execution_count": null,
   "metadata": {},
   "outputs": [],
   "source": []
  }
 ],
 "metadata": {
  "jupytext": {
   "text_representation": {
    "extension": ".py",
    "format_name": "light",
    "format_version": "1.5",
    "jupytext_version": "1.4.2"
   }
  },
  "kernelspec": {
   "display_name": "Python 3",
   "language": "python",
   "name": "python3"
  },
  "language_info": {
   "codemirror_mode": {
    "name": "ipython",
    "version": 3
   },
   "file_extension": ".py",
   "mimetype": "text/x-python",
   "name": "python",
   "nbconvert_exporter": "python",
   "pygments_lexer": "ipython3",
   "version": "3.7.6"
  }
 },
 "nbformat": 4,
 "nbformat_minor": 4
}
