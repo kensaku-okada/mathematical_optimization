{
 "cells": [
  {
   "cell_type": "markdown",
   "metadata": {},
   "source": [
    "新しい数理最適化 p29"
   ]
  },
  {
   "cell_type": "code",
   "execution_count": 1,
   "metadata": {
    "lines_to_next_cell": 0
   },
   "outputs": [
    {
     "name": "stdout",
     "output_type": "stream",
     "text": [
      "Using license file /Users/kensaku-okada-mac/gurobi.lic\n",
      "Academic license - for non-commercial use only\n",
      "Gurobi Optimizer version 9.0.1 build v9.0.1rc0 (mac64)\n",
      "Optimize a model with 2 rows, 4 columns and 8 nonzeros\n",
      "Model fingerprint: 0x8ee4bea3\n",
      "Variable types: 0 continuous, 4 integer (4 binary)\n",
      "Coefficient statistics:\n",
      "  Matrix range     [2e+00, 7e+03]\n",
      "  Objective range  [2e+01, 3e+01]\n",
      "  Bounds range     [1e+00, 1e+00]\n",
      "  RHS range        [7e+00, 1e+04]\n",
      "Found heuristic solution: objective 35.0000000\n",
      "Presolve removed 2 rows and 4 columns\n",
      "Presolve time: 0.00s\n",
      "Presolve: All rows and columns removed\n",
      "\n",
      "Explored 0 nodes (0 simplex iterations) in 0.01 seconds\n",
      "Thread count was 1 (of 12 available processors)\n",
      "\n",
      "Solution count 2: 42 \n",
      "\n",
      "Optimal solution found (tolerance 1.00e-04)\n",
      "Best objective 4.200000000000e+01, best bound 4.200000000000e+01, gap 0.0000%\n",
      "optimal\n",
      "optimum value: 42.0\n",
      "v.varName: x[2]. v.X: 1.0\n",
      "v.varName: x[3]. v.X: 1.0\n"
     ]
    }
   ],
   "source": [
    "from gurobipy import *\n",
    "\n",
    "def get_data():\n",
    "#     item numbers and prices\n",
    "    J,v = multidict({1:16, 2:19, 3:23, 4:28})\n",
    "    \n",
    "#     knapsack capacities: 7 = max weight, 10000 = max volume \n",
    "    I,b = multidict({1:7, 2:10000})\n",
    "    \n",
    "#     weight and volume of each item\n",
    "    a = {(1,1):2,    (1,2):3,    (1,3):4,    (1,4):5,\n",
    "         (2,1):3000, (2,2):3500, (2,3):5100, (2,4):7200,\n",
    "         }\n",
    "\n",
    "    return I,J,v,a,b\n",
    "\n",
    "def mkp(I,J,v,a,b):\n",
    "    model = Model(\"mkp\")\n",
    "    x = {}\n",
    "#     define variablex\n",
    "    for j in J:\n",
    "        x[j] = model.addVar(vtype= \"B\", name=\"x[%d]\" % j)\n",
    "    model.update()\n",
    "#     define constraints\n",
    "    for i in I:\n",
    "        model.addConstr(quicksum(a[i, j] * x[j] for j in J) <= b[i])\n",
    "#     define objective function\n",
    "    model.setObjective(quicksum(v[j] * x[j] for j in J), GRB.MAXIMIZE)\n",
    "    return model\n",
    "        \n",
    "if __name__ == \"__main__\":\n",
    "    I,J,v,a,b = get_data()\n",
    "    model = mkp(I,J,v,a,b)\n",
    "    \n",
    "    model.update()\n",
    "    model.write(\"mkp.lp\")\n",
    "    \n",
    "    model.optimize()\n",
    "    status = model.Status\n",
    "    if status == GRB.status.OPTIMAL:\n",
    "        print(\"the optimization status is optimal\")\n",
    "    elif status == GRB.status.INFEASIBLE:\n",
    "        print(\"the optimization status is infeasible\")\n",
    "    \n",
    "#     show result\n",
    "    print(f\"optimum value: {model.ObjVal}\")\n",
    "    for v in model.getVars():\n",
    "        if v.X > 0.0:\n",
    "            print(f\"v.varName: {v.varName}. v.X: {v.X}\")\n"
   ]
  },
  {
   "cell_type": "code",
   "execution_count": null,
   "metadata": {
    "lines_to_next_cell": 2
   },
   "outputs": [],
   "source": []
  }
 ],
 "metadata": {
  "jupytext": {
   "encoding": "# -*- coding: utf-8 -*-",
   "text_representation": {
    "extension": ".py",
    "format_name": "light",
    "format_version": "1.5",
    "jupytext_version": "1.4.2"
   }
  },
  "kernelspec": {
   "display_name": "Python 3",
   "language": "python",
   "name": "python3"
  },
  "language_info": {
   "codemirror_mode": {
    "name": "ipython",
    "version": 3
   },
   "file_extension": ".py",
   "mimetype": "text/x-python",
   "name": "python",
   "nbconvert_exporter": "python",
   "pygments_lexer": "ipython3",
   "version": "3.7.6"
  }
 },
 "nbformat": 4,
 "nbformat_minor": 4
}
