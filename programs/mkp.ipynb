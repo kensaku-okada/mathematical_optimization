{
 "cells": [
  {
   "cell_type": "code",
   "execution_count": null,
   "metadata": {
    "lines_to_next_cell": 1
   },
   "outputs": [],
   "source": [
    "\"\"\"\n",
    "mkp.py: model for the multi-constrained knapsack problem\n",
    "    \n",
    "Copyright (c) by Joao Pedro PEDROSO and Mikio KUBO, 2012\n",
    "\"\"\"\n",
    "from gurobipy import *"
   ]
  },
  {
   "cell_type": "code",
   "execution_count": null,
   "metadata": {},
   "outputs": [],
   "source": [
    "def mkp(I,J,v,a,b):\n",
    "    \"\"\"mkp -- model for solving the multi-constrained knapsack\n",
    "    Parameters:\n",
    "        - I: set of dimensions\n",
    "        - J: set of items\n",
    "        - v[j]: value of item j\n",
    "        - a[i,j]: weight of item j on dimension i\n",
    "        - b[i]: capacity of knapsack on dimension i\n",
    "    Returns a model, ready to be solved.\n",
    "    \"\"\"\n",
    "    model = Model(\"mkp\")\n",
    "    x = {}\n",
    "    for j in J:\n",
    "        x[j] = model.addVar(vtype=\"B\", name=\"x(%s)\"%j)\n",
    "    model.update()\n",
    "     \n",
    "    for i in I:\n",
    "        model.addConstr(quicksum(a[i,j]*x[j] for j in J) <= b[i], \"Capacity(%s)\"%i)\n",
    "\n",
    "    model.setObjective(quicksum(v[j]*x[j] for j in J), GRB.MAXIMIZE)\n",
    "\n",
    "    model.update()\n",
    "    return model"
   ]
  },
  {
   "cell_type": "code",
   "execution_count": null,
   "metadata": {},
   "outputs": [],
   "source": [
    "def example():\n",
    "    J,v = multidict({1:16, 2:19, 3:23, 4:28})\n",
    "    a = {(1,1):2,    (1,2):3,    (1,3):4,    (1,4):5,\n",
    "         (2,1):3000, (2,2):3500, (2,3):5100, (2,4):7200,\n",
    "         }\n",
    "    I,b = multidict({1:7, 2:10000})\n",
    "    return I,J,v,a,b"
   ]
  },
  {
   "cell_type": "code",
   "execution_count": null,
   "metadata": {},
   "outputs": [],
   "source": [
    "if __name__ == \"__main__\":\n",
    "    I,J,v,a,b = example()\n",
    "    model = mkp(I,J,v,a,b)\n",
    "    model.optimize()\n",
    "    print \"Optimal value=\",model.ObjVal\n",
    "\n",
    "    EPS = 1.e-6\n",
    "    for v in model.getVars():\n",
    "        if v.X > EPS:\n",
    "            print v.VarName,v.X"
   ]
  }
 ],
 "metadata": {
  "jupytext": {
   "cell_metadata_filter": "-all",
   "notebook_metadata_filter": "-all",
   "text_representation": {
    "extension": ".py",
    "format_name": "light"
   }
  },
  "kernelspec": {
   "display_name": "Python 3",
   "language": "python",
   "name": "python3"
  },
  "language_info": {
   "codemirror_mode": {
    "name": "ipython",
    "version": 3
   },
   "file_extension": ".py",
   "mimetype": "text/x-python",
   "name": "python",
   "nbconvert_exporter": "python",
   "pygments_lexer": "ipython3",
   "version": "3.7.6"
  }
 },
 "nbformat": 4,
 "nbformat_minor": 4
}
