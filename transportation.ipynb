{
 "cells": [
  {
   "cell_type": "markdown",
   "metadata": {},
   "source": [
    "新しい数理最適化 p12"
   ]
  },
  {
   "cell_type": "code",
   "execution_count": 8,
   "metadata": {
    "lines_to_next_cell": 0
   },
   "outputs": [
    {
     "name": "stdout",
     "output_type": "stream",
     "text": [
      "x: {(1, 1): <gurobi.Var x(1, 1)>, (1, 2): <gurobi.Var x(1, 2)>, (1, 3): <gurobi.Var x(1, 3)>, (2, 1): <gurobi.Var x(2, 1)>, (2, 2): <gurobi.Var x(2, 2)>, (2, 3): <gurobi.Var x(2, 3)>, (3, 1): <gurobi.Var x(3, 1)>, (3, 2): <gurobi.Var x(3, 2)>, (3, 3): <gurobi.Var x(3, 3)>, (4, 1): <gurobi.Var x(4, 1)>, (4, 2): <gurobi.Var x(4, 2)>, (4, 3): <gurobi.Var x(4, 3)>, (5, 1): <gurobi.Var x(5, 1)>, (5, 2): <gurobi.Var x(5, 2)>, (5, 3): <gurobi.Var x(5, 3)>}\n",
      "Gurobi Optimizer version 9.0.1 build v9.0.1rc0 (mac64)\n",
      "Optimize a model with 8 rows, 15 columns and 30 nonzeros\n",
      "Model fingerprint: 0x1a69331c\n",
      "Coefficient statistics:\n",
      "  Matrix range     [1e+00, 1e+00]\n",
      "  Objective range  [3e+00, 1e+01]\n",
      "  Bounds range     [0e+00, 0e+00]\n",
      "  RHS range        [8e+01, 5e+02]\n",
      "Presolve time: 0.00s\n",
      "Presolved: 8 rows, 15 columns, 30 nonzeros\n",
      "\n",
      "Iteration    Objective       Primal Inf.    Dual Inf.      Time\n",
      "       0    3.3500000e+03   2.000000e+01   0.000000e+00      0s\n",
      "       1    3.3700000e+03   0.000000e+00   0.000000e+00      0s\n",
      "\n",
      "Solved in 1 iterations and 0.01 seconds\n",
      "Optimal objective  3.370000000e+03\n",
      "optimal value: 3370.0\n",
      "x[i, j]: <gurobi.Var x(1, 1) (value 80.0)>, j: 1, i: 1\n",
      "x[i, j]: <gurobi.Var x(2, 1) (value 20.0)>, j: 1, i: 2\n",
      "x[i, j]: <gurobi.Var x(2, 2) (value 250.0)>, j: 2, i: 2\n",
      "x[i, j]: <gurobi.Var x(3, 2) (value 250.0)>, j: 2, i: 3\n",
      "x[i, j]: <gurobi.Var x(4, 3) (value 160.0)>, j: 3, i: 4\n",
      "x[i, j]: <gurobi.Var x(5, 3) (value 180.0)>, j: 3, i: 5\n",
      "-------------------\n",
      "x[i, j]: <gurobi.Var x(1, 1) (value 80.0)>, j: 1, i: 1\n",
      "x[i, j]: <gurobi.Var x(1, 2) (value 0.0)>, j: 2, i: 1\n",
      "x[i, j]: <gurobi.Var x(1, 3) (value 0.0)>, j: 3, i: 1\n",
      "x[i, j]: <gurobi.Var x(2, 1) (value 20.0)>, j: 1, i: 2\n",
      "x[i, j]: <gurobi.Var x(2, 2) (value 250.0)>, j: 2, i: 2\n",
      "x[i, j]: <gurobi.Var x(2, 3) (value 0.0)>, j: 3, i: 2\n",
      "x[i, j]: <gurobi.Var x(3, 1) (value 0.0)>, j: 1, i: 3\n",
      "x[i, j]: <gurobi.Var x(3, 2) (value 250.0)>, j: 2, i: 3\n",
      "x[i, j]: <gurobi.Var x(3, 3) (value 0.0)>, j: 3, i: 3\n",
      "x[i, j]: <gurobi.Var x(4, 1) (value 0.0)>, j: 1, i: 4\n",
      "x[i, j]: <gurobi.Var x(4, 2) (value 0.0)>, j: 2, i: 4\n",
      "x[i, j]: <gurobi.Var x(4, 3) (value 160.0)>, j: 3, i: 4\n",
      "x[i, j]: <gurobi.Var x(5, 1) (value 0.0)>, j: 1, i: 5\n",
      "x[i, j]: <gurobi.Var x(5, 2) (value 0.0)>, j: 2, i: 5\n",
      "x[i, j]: <gurobi.Var x(5, 3) (value 180.0)>, j: 3, i: 5\n"
     ]
    }
   ],
   "source": [
    "from gurobipy import *\n",
    "\n",
    "# define data\n",
    "# customer demand\n",
    "d = {1:80, 2:270, 3:250, 4:160, 5:180}\n",
    "# customer numbers\n",
    "I = [1,2,3,4,5]\n",
    "# capacity of each factory\n",
    "M = {1:500, 2:500, 3:500}\n",
    "# factory numbers\n",
    "J = [1,2,3]\n",
    "\n",
    "# transportation cost between customers and factories\n",
    "c = {(1,1):4,    (1,2):6,    (1,3):9, \n",
    "     (2,1):5,    (2,2):4,    (2,3):7,\n",
    "     (3,1):6,    (3,2):3,    (3,3):4,\n",
    "     (4,1):8,    (4,2):5,    (4,3):3,\n",
    "     (5,1):10,   (5,2):8,    (5,3):4,\n",
    "     }\n",
    "\n",
    "model = Model(\"transportation\")\n",
    "\n",
    "x = {}\n",
    "for i in I:\n",
    "    for j in J:\n",
    "        x[i, j] = model.addVar(vtype=\"C\", name=\"x(%s, %s)\" % (i, j))\n",
    "\n",
    "model.update()\n",
    "\n",
    "print(f\"x: {x}\")\n",
    "\n",
    "# add constraints\n",
    "# constraint for satisfying customer demands \n",
    "for i in I:\n",
    "    model.addConstr(quicksum(x[i, j] for j in J) == d[i], name = \"Demand(%s)\" % i)\n",
    "\n",
    "# constraint for factory capacities\n",
    "for j in J:\n",
    "    model.addConstr(quicksum(x[i, j] for i in I) <= M[j], name = \"Capacity(%s)\" % j)\n",
    "\n",
    "# objective function\n",
    "model.setObjective(quicksum(c[i, j] * x[i , j] for (i, j) in x), GRB.MINIMIZE)\n",
    "    \n",
    "model.optimize()\n",
    "\n",
    "print(f\"optimal value: {model.ObjVal}\")\n",
    "EPS = 1.e-6\n",
    "for (i, j) in x:\n",
    "    if x[i, j].X > EPS:\n",
    "        print(f\"x[i, j]: {x[i, j]}, j: {j}, i: {i}\")\n",
    "\n",
    "print(\"-------------------\")    \n",
    "for (i, j) in x:\n",
    "    print(f\"x[i, j]: {x[i, j]}, j: {j}, i: {i}\")\n",
    "    \n"
   ]
  },
  {
   "cell_type": "code",
   "execution_count": null,
   "metadata": {
    "lines_to_next_cell": 2
   },
   "outputs": [],
   "source": []
  }
 ],
 "metadata": {
  "jupytext": {
   "encoding": "# -*- coding: utf-8 -*-",
   "text_representation": {
    "extension": ".py",
    "format_name": "light",
    "format_version": "1.5",
    "jupytext_version": "1.4.2"
   }
  },
  "kernelspec": {
   "display_name": "Python 3",
   "language": "python",
   "name": "python3"
  },
  "language_info": {
   "codemirror_mode": {
    "name": "ipython",
    "version": 3
   },
   "file_extension": ".py",
   "mimetype": "text/x-python",
   "name": "python",
   "nbconvert_exporter": "python",
   "pygments_lexer": "ipython3",
   "version": "3.7.6"
  }
 },
 "nbformat": 4,
 "nbformat_minor": 4
}
